{
 "cells": [
  {
   "cell_type": "code",
   "execution_count": 7,
   "metadata": {},
   "outputs": [],
   "source": [
    "import mysql.connector\n",
    "\n",
    "from mysql.connector import Error"
   ]
  },
  {
   "cell_type": "code",
   "execution_count": 6,
   "metadata": {},
   "outputs": [
    {
     "name": "stdout",
     "output_type": "stream",
     "text": [
      "Requirement already satisfied: mysql-connector-python in c:\\users\\sara\\appdata\\local\\packages\\pythonsoftwarefoundation.python.3.11_qbz5n2kfra8p0\\localcache\\local-packages\\python311\\site-packages (8.1.0)\n",
      "Requirement already satisfied: protobuf<=4.21.12,>=4.21.1 in c:\\users\\sara\\appdata\\local\\packages\\pythonsoftwarefoundation.python.3.11_qbz5n2kfra8p0\\localcache\\local-packages\\python311\\site-packages (from mysql-connector-python) (4.21.12)\n",
      "Note: you may need to restart the kernel to use updated packages.\n"
     ]
    }
   ],
   "source": [
    "pip install mysql-connector-python"
   ]
  },
  {
   "cell_type": "code",
   "execution_count": 8,
   "metadata": {},
   "outputs": [
    {
     "name": "stdout",
     "output_type": "stream",
     "text": [
      "Connected to MySQL database... MySQL Server version on  5.7.39-42-log\n",
      "MySQL connection is closed\n"
     ]
    }
   ],
   "source": [
    "try: \n",
    "    connection = mysql.connector.connect(host='35.208.82.175', \n",
    "                                         database='dbgsipp7ucsuwy',\n",
    "                                         user='uqsnolewgvge8',\n",
    "                                         password='upgradehub', connection_timeout=180)\n",
    "\n",
    "    if connection.is_connected():\n",
    "        db_Info = connection.get_server_info()\n",
    "        print(\"Connected to MySQL database... MySQL Server version on \", db_Info)\n",
    "\n",
    "        cursor = connection.cursor()\n",
    "        connection.commit()\n",
    "\n",
    "except Error as e:\n",
    "    print(\"Error while connecting to MySQL\", e)\n",
    "finally:\n",
    "    # closing database connection.\n",
    "    if connection.is_connected():\n",
    "        cursor.close()\n",
    "        connection.close()\n",
    "        print(\"MySQL connection is closed\")"
   ]
  },
  {
   "cell_type": "markdown",
   "metadata": {},
   "source": [
    "EMPEZAMOS A CONECTARNOS Y A EXTRAER INFO:"
   ]
  },
  {
   "cell_type": "code",
   "execution_count": 18,
   "metadata": {},
   "outputs": [],
   "source": [
    "connection = mysql.connector.connect(host='35.208.82.175', database='dbgsipp7ucsuwy', user='uqsnolewgvge8', password='upgradehub', connection_timeout=1800)\n",
    "cursor=connection.cursor()"
   ]
  },
  {
   "cell_type": "markdown",
   "metadata": {},
   "source": [
    "SABER TABLAS"
   ]
  },
  {
   "cell_type": "code",
   "execution_count": 12,
   "metadata": {},
   "outputs": [],
   "source": [
    "import pandas as pd"
   ]
  },
  {
   "cell_type": "code",
   "execution_count": 15,
   "metadata": {},
   "outputs": [
    {
     "name": "stderr",
     "output_type": "stream",
     "text": [
      "C:\\Users\\Sara\\AppData\\Local\\Temp\\ipykernel_11672\\1460944650.py:1: UserWarning: pandas only supports SQLAlchemy connectable (engine/connection) or database string URI or sqlite3 DBAPI2 connection. Other DBAPI2 objects are not tested. Please consider using SQLAlchemy.\n",
      "  pd.read_sql('SHOW TABLES', con= connection)\n"
     ]
    },
    {
     "data": {
      "text/html": [
       "<div>\n",
       "<style scoped>\n",
       "    .dataframe tbody tr th:only-of-type {\n",
       "        vertical-align: middle;\n",
       "    }\n",
       "\n",
       "    .dataframe tbody tr th {\n",
       "        vertical-align: top;\n",
       "    }\n",
       "\n",
       "    .dataframe thead th {\n",
       "        text-align: right;\n",
       "    }\n",
       "</style>\n",
       "<table border=\"1\" class=\"dataframe\">\n",
       "  <thead>\n",
       "    <tr style=\"text-align: right;\">\n",
       "      <th></th>\n",
       "      <th>Tables_in_dbgsipp7ucsuwy</th>\n",
       "    </tr>\n",
       "  </thead>\n",
       "  <tbody>\n",
       "    <tr>\n",
       "      <th>0</th>\n",
       "      <td>EMPLEADO</td>\n",
       "    </tr>\n",
       "    <tr>\n",
       "      <th>1</th>\n",
       "      <td>PEDIDO</td>\n",
       "    </tr>\n",
       "    <tr>\n",
       "      <th>2</th>\n",
       "      <td>PEDIDOS_FINALIZADOS</td>\n",
       "    </tr>\n",
       "    <tr>\n",
       "      <th>3</th>\n",
       "      <td>PRODUCTO</td>\n",
       "    </tr>\n",
       "    <tr>\n",
       "      <th>4</th>\n",
       "      <td>RANKING_PRODUCTOS</td>\n",
       "    </tr>\n",
       "    <tr>\n",
       "      <th>5</th>\n",
       "      <td>REPARTIDOR</td>\n",
       "    </tr>\n",
       "    <tr>\n",
       "      <th>6</th>\n",
       "      <td>consta</td>\n",
       "    </tr>\n",
       "    <tr>\n",
       "      <th>7</th>\n",
       "      <td>esta_compuesto</td>\n",
       "    </tr>\n",
       "    <tr>\n",
       "      <th>8</th>\n",
       "      <td>users</td>\n",
       "    </tr>\n",
       "  </tbody>\n",
       "</table>\n",
       "</div>"
      ],
      "text/plain": [
       "  Tables_in_dbgsipp7ucsuwy\n",
       "0                 EMPLEADO\n",
       "1                   PEDIDO\n",
       "2      PEDIDOS_FINALIZADOS\n",
       "3                 PRODUCTO\n",
       "4        RANKING_PRODUCTOS\n",
       "5               REPARTIDOR\n",
       "6                   consta\n",
       "7           esta_compuesto\n",
       "8                    users"
      ]
     },
     "execution_count": 15,
     "metadata": {},
     "output_type": "execute_result"
    }
   ],
   "source": [
    "pd.read_sql('SHOW TABLES', con= connection)\n",
    "#vuelvo a leer connection y hago esto después. Lee lass tablas que tenemos "
   ]
  },
  {
   "cell_type": "markdown",
   "metadata": {},
   "source": [
    "OBTENER EL LISTADO DE TODOS LOS PRODUCTOS"
   ]
  },
  {
   "cell_type": "code",
   "execution_count": 11,
   "metadata": {},
   "outputs": [
    {
     "data": {
      "text/plain": [
       "[('01', 'Hamburguesa', 2.6),\n",
       " ('02', 'Patatas', 2.0),\n",
       " ('03', 'tomate', 0.5),\n",
       " ('04', 'Queso', 1.0),\n",
       " ('05', 'Lechuga', 0.5),\n",
       " ('06', 'Pollo', 3.6),\n",
       " ('08', 'Bacon', 1.5),\n",
       " ('09', 'Coca cola', 3.0),\n",
       " ('10', 'Nestea', 3.0),\n",
       " ('11', 'Menú de Pollo', 5.0),\n",
       " ('12', 'Menú de Hamburguesa con queso', 6.0),\n",
       " ('13', 'Menú de Pollo con queso', 6.0),\n",
       " ('14', 'Menú de Hamburguesa', 6.0),\n",
       " ('15', 'Helado', 1.0),\n",
       " ('16', 'Tarta', 2.0),\n",
       " ('17', 'Fruta', 1.0),\n",
       " ('18', 'Agua', 2.0),\n",
       " ('19', 'Fanta', 3.0)]"
      ]
     },
     "execution_count": 11,
     "metadata": {},
     "output_type": "execute_result"
    }
   ],
   "source": [
    "connection = mysql.connector.connect(host='35.208.82.175', database='dbgsipp7ucsuwy', user='uqsnolewgvge8', password='upgradehub', connection_timeout=1800)\n",
    "cursor=connection.cursor()\n",
    "query1 = \"\"\" SELECT * FROM PRODUCTO; \"\"\"  #para hacer una consulta se coge este patrón\n",
    "cursor.execute(query1)\n",
    "cursor.fetchall()"
   ]
  },
  {
   "cell_type": "code",
   "execution_count": 20,
   "metadata": {},
   "outputs": [
    {
     "name": "stderr",
     "output_type": "stream",
     "text": [
      "C:\\Users\\Sara\\AppData\\Local\\Temp\\ipykernel_11672\\2648103261.py:1: UserWarning: pandas only supports SQLAlchemy connectable (engine/connection) or database string URI or sqlite3 DBAPI2 connection. Other DBAPI2 objects are not tested. Please consider using SQLAlchemy.\n",
      "  df1= pd.read_sql(query1, con= connection)\n"
     ]
    },
    {
     "data": {
      "text/html": [
       "<div>\n",
       "<style scoped>\n",
       "    .dataframe tbody tr th:only-of-type {\n",
       "        vertical-align: middle;\n",
       "    }\n",
       "\n",
       "    .dataframe tbody tr th {\n",
       "        vertical-align: top;\n",
       "    }\n",
       "\n",
       "    .dataframe thead th {\n",
       "        text-align: right;\n",
       "    }\n",
       "</style>\n",
       "<table border=\"1\" class=\"dataframe\">\n",
       "  <thead>\n",
       "    <tr style=\"text-align: right;\">\n",
       "      <th></th>\n",
       "      <th>Codigo</th>\n",
       "      <th>Nombre</th>\n",
       "      <th>Precio</th>\n",
       "    </tr>\n",
       "  </thead>\n",
       "  <tbody>\n",
       "    <tr>\n",
       "      <th>0</th>\n",
       "      <td>01</td>\n",
       "      <td>Hamburguesa</td>\n",
       "      <td>2.6</td>\n",
       "    </tr>\n",
       "    <tr>\n",
       "      <th>1</th>\n",
       "      <td>02</td>\n",
       "      <td>Patatas</td>\n",
       "      <td>2.0</td>\n",
       "    </tr>\n",
       "    <tr>\n",
       "      <th>2</th>\n",
       "      <td>03</td>\n",
       "      <td>tomate</td>\n",
       "      <td>0.5</td>\n",
       "    </tr>\n",
       "    <tr>\n",
       "      <th>3</th>\n",
       "      <td>04</td>\n",
       "      <td>Queso</td>\n",
       "      <td>1.0</td>\n",
       "    </tr>\n",
       "    <tr>\n",
       "      <th>4</th>\n",
       "      <td>05</td>\n",
       "      <td>Lechuga</td>\n",
       "      <td>0.5</td>\n",
       "    </tr>\n",
       "    <tr>\n",
       "      <th>5</th>\n",
       "      <td>06</td>\n",
       "      <td>Pollo</td>\n",
       "      <td>3.6</td>\n",
       "    </tr>\n",
       "    <tr>\n",
       "      <th>6</th>\n",
       "      <td>08</td>\n",
       "      <td>Bacon</td>\n",
       "      <td>1.5</td>\n",
       "    </tr>\n",
       "    <tr>\n",
       "      <th>7</th>\n",
       "      <td>09</td>\n",
       "      <td>Coca cola</td>\n",
       "      <td>3.0</td>\n",
       "    </tr>\n",
       "    <tr>\n",
       "      <th>8</th>\n",
       "      <td>10</td>\n",
       "      <td>Nestea</td>\n",
       "      <td>3.0</td>\n",
       "    </tr>\n",
       "    <tr>\n",
       "      <th>9</th>\n",
       "      <td>11</td>\n",
       "      <td>Menú de Pollo</td>\n",
       "      <td>5.0</td>\n",
       "    </tr>\n",
       "    <tr>\n",
       "      <th>10</th>\n",
       "      <td>12</td>\n",
       "      <td>Menú de Hamburguesa con queso</td>\n",
       "      <td>6.0</td>\n",
       "    </tr>\n",
       "    <tr>\n",
       "      <th>11</th>\n",
       "      <td>13</td>\n",
       "      <td>Menú de Pollo con queso</td>\n",
       "      <td>6.0</td>\n",
       "    </tr>\n",
       "    <tr>\n",
       "      <th>12</th>\n",
       "      <td>14</td>\n",
       "      <td>Menú de Hamburguesa</td>\n",
       "      <td>6.0</td>\n",
       "    </tr>\n",
       "    <tr>\n",
       "      <th>13</th>\n",
       "      <td>15</td>\n",
       "      <td>Helado</td>\n",
       "      <td>1.0</td>\n",
       "    </tr>\n",
       "    <tr>\n",
       "      <th>14</th>\n",
       "      <td>16</td>\n",
       "      <td>Tarta</td>\n",
       "      <td>2.0</td>\n",
       "    </tr>\n",
       "    <tr>\n",
       "      <th>15</th>\n",
       "      <td>17</td>\n",
       "      <td>Fruta</td>\n",
       "      <td>1.0</td>\n",
       "    </tr>\n",
       "    <tr>\n",
       "      <th>16</th>\n",
       "      <td>18</td>\n",
       "      <td>Agua</td>\n",
       "      <td>2.0</td>\n",
       "    </tr>\n",
       "    <tr>\n",
       "      <th>17</th>\n",
       "      <td>19</td>\n",
       "      <td>Fanta</td>\n",
       "      <td>3.0</td>\n",
       "    </tr>\n",
       "  </tbody>\n",
       "</table>\n",
       "</div>"
      ],
      "text/plain": [
       "   Codigo                         Nombre  Precio\n",
       "0      01                    Hamburguesa     2.6\n",
       "1      02                        Patatas     2.0\n",
       "2      03                         tomate     0.5\n",
       "3      04                          Queso     1.0\n",
       "4      05                        Lechuga     0.5\n",
       "5      06                          Pollo     3.6\n",
       "6      08                          Bacon     1.5\n",
       "7      09                      Coca cola     3.0\n",
       "8      10                         Nestea     3.0\n",
       "9      11                  Menú de Pollo     5.0\n",
       "10     12  Menú de Hamburguesa con queso     6.0\n",
       "11     13        Menú de Pollo con queso     6.0\n",
       "12     14            Menú de Hamburguesa     6.0\n",
       "13     15                         Helado     1.0\n",
       "14     16                          Tarta     2.0\n",
       "15     17                          Fruta     1.0\n",
       "16     18                           Agua     2.0\n",
       "17     19                          Fanta     3.0"
      ]
     },
     "execution_count": 20,
     "metadata": {},
     "output_type": "execute_result"
    }
   ],
   "source": [
    "#volver a leer connection\n",
    "df1= pd.read_sql(query1, con= connection)\n",
    "df1"
   ]
  },
  {
   "cell_type": "markdown",
   "metadata": {},
   "source": [
    "Obtener el número de pedido, dni del repartidor y hora de reparto de aquellos\n",
    "pedidos que se toman nota después de las siete de la tarde."
   ]
  },
  {
   "cell_type": "code",
   "execution_count": 23,
   "metadata": {},
   "outputs": [
    {
     "name": "stderr",
     "output_type": "stream",
     "text": [
      "C:\\Users\\Sara\\AppData\\Local\\Temp\\ipykernel_11672\\1529357203.py:7: UserWarning: pandas only supports SQLAlchemy connectable (engine/connection) or database string URI or sqlite3 DBAPI2 connection. Other DBAPI2 objects are not tested. Please consider using SQLAlchemy.\n",
      "  df2 = pd.read_sql(query2, con=connection)\n"
     ]
    },
    {
     "data": {
      "text/html": [
       "<div>\n",
       "<style scoped>\n",
       "    .dataframe tbody tr th:only-of-type {\n",
       "        vertical-align: middle;\n",
       "    }\n",
       "\n",
       "    .dataframe tbody tr th {\n",
       "        vertical-align: top;\n",
       "    }\n",
       "\n",
       "    .dataframe thead th {\n",
       "        text-align: right;\n",
       "    }\n",
       "</style>\n",
       "<table border=\"1\" class=\"dataframe\">\n",
       "  <thead>\n",
       "    <tr style=\"text-align: right;\">\n",
       "      <th></th>\n",
       "      <th>DNI_R</th>\n",
       "      <th>Hora_rep</th>\n",
       "    </tr>\n",
       "  </thead>\n",
       "  <tbody>\n",
       "    <tr>\n",
       "      <th>0</th>\n",
       "      <td>14188151T</td>\n",
       "      <td>0 days 19:45:00</td>\n",
       "    </tr>\n",
       "    <tr>\n",
       "      <th>1</th>\n",
       "      <td>04477744T</td>\n",
       "      <td>0 days 21:45:00</td>\n",
       "    </tr>\n",
       "    <tr>\n",
       "      <th>2</th>\n",
       "      <td>14188151T</td>\n",
       "      <td>0 days 23:35:00</td>\n",
       "    </tr>\n",
       "  </tbody>\n",
       "</table>\n",
       "</div>"
      ],
      "text/plain": [
       "       DNI_R        Hora_rep\n",
       "0  14188151T 0 days 19:45:00\n",
       "1  04477744T 0 days 21:45:00\n",
       "2  14188151T 0 days 23:35:00"
      ]
     },
     "execution_count": 23,
     "metadata": {},
     "output_type": "execute_result"
    }
   ],
   "source": [
    "connection = mysql.connector.connect(host='35.208.82.175', database='dbgsipp7ucsuwy', user='uqsnolewgvge8', password='upgradehub', connection_timeout=1800)\n",
    "cursor=connection.cursor()\n",
    "query2 = \"\"\" SELECT DNI_R, Hora_rep FROM PEDIDO WHERE Hora_tm >'19:00' and Hora_rep\n",
    "is not null \"\"\"\n",
    "cursor.execute(query2)\n",
    "cursor.fetchall()\n",
    "df2 = pd.read_sql(query2, con=connection)\n",
    "df2"
   ]
  },
  {
   "cell_type": "markdown",
   "metadata": {},
   "source": [
    "Obtener todos los campos de empleados que cobran entre 900 y 1000 euros."
   ]
  },
  {
   "cell_type": "code",
   "execution_count": 46,
   "metadata": {},
   "outputs": [
    {
     "name": "stderr",
     "output_type": "stream",
     "text": [
      "C:\\Users\\Sara\\AppData\\Local\\Temp\\ipykernel_11672\\3317841336.py:6: UserWarning: pandas only supports SQLAlchemy connectable (engine/connection) or database string URI or sqlite3 DBAPI2 connection. Other DBAPI2 objects are not tested. Please consider using SQLAlchemy.\n",
      "  df3 = pd.read_sql(query3, con=connection)\n"
     ]
    },
    {
     "data": {
      "text/html": [
       "<div>\n",
       "<style scoped>\n",
       "    .dataframe tbody tr th:only-of-type {\n",
       "        vertical-align: middle;\n",
       "    }\n",
       "\n",
       "    .dataframe tbody tr th {\n",
       "        vertical-align: top;\n",
       "    }\n",
       "\n",
       "    .dataframe thead th {\n",
       "        text-align: right;\n",
       "    }\n",
       "</style>\n",
       "<table border=\"1\" class=\"dataframe\">\n",
       "  <thead>\n",
       "    <tr style=\"text-align: right;\">\n",
       "      <th></th>\n",
       "      <th>DNI</th>\n",
       "      <th>Nombre</th>\n",
       "      <th>Nss</th>\n",
       "      <th>Turno</th>\n",
       "      <th>Salario</th>\n",
       "    </tr>\n",
       "  </thead>\n",
       "  <tbody>\n",
       "    <tr>\n",
       "      <th>0</th>\n",
       "      <td>04444444T</td>\n",
       "      <td>Úrsula Delta Camacho</td>\n",
       "      <td>11177788899</td>\n",
       "      <td>mañana</td>\n",
       "      <td>900.0</td>\n",
       "    </tr>\n",
       "    <tr>\n",
       "      <th>1</th>\n",
       "      <td>11111111Q</td>\n",
       "      <td>Luis Ramírez Pardo</td>\n",
       "      <td>23445556666</td>\n",
       "      <td>mañana</td>\n",
       "      <td>900.0</td>\n",
       "    </tr>\n",
       "    <tr>\n",
       "      <th>2</th>\n",
       "      <td>14111155T</td>\n",
       "      <td>Sergio Lérida Campos</td>\n",
       "      <td>55577700089</td>\n",
       "      <td>tarde</td>\n",
       "      <td>1000.0</td>\n",
       "    </tr>\n",
       "    <tr>\n",
       "      <th>3</th>\n",
       "      <td>22222222S</td>\n",
       "      <td>María Sánchez Cid</td>\n",
       "      <td>11112223334</td>\n",
       "      <td>tarde</td>\n",
       "      <td>1000.0</td>\n",
       "    </tr>\n",
       "    <tr>\n",
       "      <th>4</th>\n",
       "      <td>33333333M</td>\n",
       "      <td>Martín Guerrero López</td>\n",
       "      <td>33344455566</td>\n",
       "      <td>tarde</td>\n",
       "      <td>1000.0</td>\n",
       "    </tr>\n",
       "    <tr>\n",
       "      <th>5</th>\n",
       "      <td>55555555J</td>\n",
       "      <td>Carmen Hernández Pío</td>\n",
       "      <td>99966633311</td>\n",
       "      <td>mañana</td>\n",
       "      <td>900.0</td>\n",
       "    </tr>\n",
       "    <tr>\n",
       "      <th>6</th>\n",
       "      <td>77777777M</td>\n",
       "      <td>Pedro Jiménez Ruiz</td>\n",
       "      <td>23456785432</td>\n",
       "      <td>tarde</td>\n",
       "      <td>1000.0</td>\n",
       "    </tr>\n",
       "    <tr>\n",
       "      <th>7</th>\n",
       "      <td>99999999X</td>\n",
       "      <td>Raúl Rodrigo Roca</td>\n",
       "      <td>55566677789</td>\n",
       "      <td>tarde</td>\n",
       "      <td>1000.0</td>\n",
       "    </tr>\n",
       "  </tbody>\n",
       "</table>\n",
       "</div>"
      ],
      "text/plain": [
       "         DNI                 Nombre          Nss   Turno  Salario\n",
       "0  04444444T   Úrsula Delta Camacho  11177788899  mañana    900.0\n",
       "1  11111111Q     Luis Ramírez Pardo  23445556666  mañana    900.0\n",
       "2  14111155T   Sergio Lérida Campos  55577700089   tarde   1000.0\n",
       "3  22222222S      María Sánchez Cid  11112223334   tarde   1000.0\n",
       "4  33333333M  Martín Guerrero López  33344455566   tarde   1000.0\n",
       "5  55555555J   Carmen Hernández Pío  99966633311  mañana    900.0\n",
       "6  77777777M     Pedro Jiménez Ruiz  23456785432   tarde   1000.0\n",
       "7  99999999X      Raúl Rodrigo Roca  55566677789   tarde   1000.0"
      ]
     },
     "execution_count": 46,
     "metadata": {},
     "output_type": "execute_result"
    }
   ],
   "source": [
    "connection = mysql.connector.connect(host='35.208.82.175', database='dbgsipp7ucsuwy', user='uqsnolewgvge8', password='upgradehub', connection_timeout=1800)\n",
    "cursor=connection.cursor()\n",
    "query3 = \"\"\" SELECT* FROM EMPLEADO WHERE Salario BETWEEN 900 AND 1000\"\"\"\n",
    "cursor.execute(query3)\n",
    "cursor.fetchall()\n",
    "df3 = pd.read_sql(query3, con=connection)\n",
    "df3"
   ]
  },
  {
   "cell_type": "markdown",
   "metadata": {},
   "source": [
    "Obtener el número de pedido e importe de aquellos que han sido registrados en el mes de noviembre de 2020 y su importe es mayor a 15 Euros."
   ]
  },
  {
   "cell_type": "code",
   "execution_count": 34,
   "metadata": {},
   "outputs": [
    {
     "data": {
      "text/plain": [
       "[('0006', 23.0), ('0009', 25.0), ('0010', 45.0), ('0011', 45.0)]"
      ]
     },
     "execution_count": 34,
     "metadata": {},
     "output_type": "execute_result"
    }
   ],
   "source": [
    "connection = mysql.connector.connect(host='35.208.82.175', database='dbgsipp7ucsuwy', user='uqsnolewgvge8', password='upgradehub', connection_timeout=1800)\n",
    "cursor=connection.cursor()\n",
    "query4 = \"\"\" SELECT Numero,importe FROM PEDIDO WHERE fecha BETWEEN '2020-11-01' AND '2020-11-30' AND importe>'15' \"\"\"\n",
    "cursor.execute(query4)\n",
    "cursor.fetchall()"
   ]
  },
  {
   "cell_type": "markdown",
   "metadata": {},
   "source": [
    "Obtener por cada uno de los repartidores su DNI junto a la cantidad de pedidos entregados."
   ]
  },
  {
   "cell_type": "code",
   "execution_count": 36,
   "metadata": {},
   "outputs": [
    {
     "data": {
      "text/plain": [
       "[('04477744T', 2),\n",
       " ('11245621Q', 1),\n",
       " ('14188151T', 2),\n",
       " ('55675675J', 1),\n",
       " ('99009900J', 3)]"
      ]
     },
     "execution_count": 36,
     "metadata": {},
     "output_type": "execute_result"
    }
   ],
   "source": [
    "connection = mysql.connector.connect(host='35.208.82.175', database='dbgsipp7ucsuwy', user='uqsnolewgvge8', password='upgradehub', connection_timeout=1800)\n",
    "cursor=connection.cursor()\n",
    "query5 = \"\"\" SELECT DNI_R, COUNT(*) FROM PEDIDO WHERE DNI_R is not null GROUP BY DNI_R\"\"\"\n",
    "cursor.execute(query5)\n",
    "cursor.fetchall()"
   ]
  },
  {
   "cell_type": "markdown",
   "metadata": {},
   "source": [
    "Obtener por cada mes (con el formato de nombre y no de número ej. Noviembre),la cantidad\n",
    "de pedidos realizados."
   ]
  },
  {
   "cell_type": "code",
   "execution_count": 39,
   "metadata": {},
   "outputs": [
    {
     "data": {
      "text/plain": [
       "[('November', 6), ('October', 2), ('September', 3)]"
      ]
     },
     "execution_count": 39,
     "metadata": {},
     "output_type": "execute_result"
    }
   ],
   "source": [
    "connection = mysql.connector.connect(host='35.208.82.175', database='dbgsipp7ucsuwy', user='uqsnolewgvge8', password='upgradehub', connection_timeout=1800)\n",
    "cursor=connection.cursor()\n",
    "query6 = \"\"\" SELECT MONTHNAME (Fecha) AS mes, COUNT(*) FROM PEDIDO GROUP BY mes\"\"\"\n",
    "cursor.execute(query6)\n",
    "cursor.fetchall()"
   ]
  },
  {
   "cell_type": "markdown",
   "metadata": {},
   "source": [
    "Obtener un listado con el nombre y dni de los empleados en el mismo campo y\n",
    "anteponiendo el dni al nombre de la siguiente forma (ej; 45776633P, Juan Rodríguez López)\n",
    "que tenga turno de “tarde” o \"noche\". Ordenar el listado por dni."
   ]
  },
  {
   "cell_type": "code",
   "execution_count": 41,
   "metadata": {},
   "outputs": [
    {
     "data": {
      "text/plain": [
       "[('03232323P, María Luisa Galdón Ter', 'noche'),\n",
       " ('14111155T, Sergio Lérida Campos', 'tarde'),\n",
       " ('14567555L, Piedad Colmenero Zapillo', 'noche'),\n",
       " ('22222222S, María Sánchez Cid', 'tarde'),\n",
       " ('33333333M, Martín Guerrero López', 'tarde'),\n",
       " ('77777777M, Pedro Jiménez Ruiz', 'tarde'),\n",
       " ('88888888O, Soledad Campillo Molina', 'noche'),\n",
       " ('99999999X, Raúl Rodrigo Roca', 'tarde')]"
      ]
     },
     "execution_count": 41,
     "metadata": {},
     "output_type": "execute_result"
    }
   ],
   "source": [
    "connection = mysql.connector.connect(host='35.208.82.175', database='dbgsipp7ucsuwy', user='uqsnolewgvge8', password='upgradehub', connection_timeout=1800)\n",
    "cursor=connection.cursor()\n",
    "query7 = \"\"\" SELECT CONCAT (DNI,', ', nombre) as EMPLEADO, turno FROM EMPLEADO WHERE turno IN ('tarde', 'noche') ORDER BY DNI\"\"\"\n",
    "cursor.execute(query7)\n",
    "cursor.fetchall()"
   ]
  },
  {
   "cell_type": "markdown",
   "metadata": {},
   "source": [
    "Obtener el nombre, código y precio de aquellos productos que superen o igualen\n",
    "la media de todos los precios. Ordenar de mayor a menor precio."
   ]
  },
  {
   "cell_type": "code",
   "execution_count": 43,
   "metadata": {},
   "outputs": [
    {
     "data": {
      "text/plain": [
       "[('Menú de Hamburguesa con queso', '12', 6.0),\n",
       " ('Menú de Pollo con queso', '13', 6.0),\n",
       " ('Menú de Hamburguesa', '14', 6.0),\n",
       " ('Menú de Pollo', '11', 5.0),\n",
       " ('Pollo', '06', 3.6),\n",
       " ('Coca cola', '09', 3.0),\n",
       " ('Nestea', '10', 3.0),\n",
       " ('Fanta', '19', 3.0)]"
      ]
     },
     "execution_count": 43,
     "metadata": {},
     "output_type": "execute_result"
    }
   ],
   "source": [
    "connection = mysql.connector.connect(host='35.208.82.175', database='dbgsipp7ucsuwy', user='uqsnolewgvge8', password='upgradehub', connection_timeout=1800)\n",
    "cursor=connection.cursor()\n",
    "query8 = \"\"\" SELECT nombre, codigo, precio FROM PRODUCTO WHERE Precio >= (SELECT AVG(Precio) FROM PRODUCTO) ORDER BY Precio DESC\"\"\"\n",
    "cursor.execute(query8)\n",
    "cursor.fetchall()"
   ]
  },
  {
   "cell_type": "code",
   "execution_count": 47,
   "metadata": {},
   "outputs": [
    {
     "name": "stderr",
     "output_type": "stream",
     "text": [
      "C:\\Users\\Sara\\AppData\\Local\\Temp\\ipykernel_11672\\356435517.py:6: UserWarning: pandas only supports SQLAlchemy connectable (engine/connection) or database string URI or sqlite3 DBAPI2 connection. Other DBAPI2 objects are not tested. Please consider using SQLAlchemy.\n",
      "  df8 = pd.read_sql(query8, con=connection)\n"
     ]
    },
    {
     "data": {
      "text/html": [
       "<div>\n",
       "<style scoped>\n",
       "    .dataframe tbody tr th:only-of-type {\n",
       "        vertical-align: middle;\n",
       "    }\n",
       "\n",
       "    .dataframe tbody tr th {\n",
       "        vertical-align: top;\n",
       "    }\n",
       "\n",
       "    .dataframe thead th {\n",
       "        text-align: right;\n",
       "    }\n",
       "</style>\n",
       "<table border=\"1\" class=\"dataframe\">\n",
       "  <thead>\n",
       "    <tr style=\"text-align: right;\">\n",
       "      <th></th>\n",
       "      <th>nombre</th>\n",
       "      <th>codigo</th>\n",
       "      <th>precio</th>\n",
       "    </tr>\n",
       "  </thead>\n",
       "  <tbody>\n",
       "    <tr>\n",
       "      <th>0</th>\n",
       "      <td>Menú de Hamburguesa con queso</td>\n",
       "      <td>12</td>\n",
       "      <td>6.0</td>\n",
       "    </tr>\n",
       "    <tr>\n",
       "      <th>1</th>\n",
       "      <td>Menú de Pollo con queso</td>\n",
       "      <td>13</td>\n",
       "      <td>6.0</td>\n",
       "    </tr>\n",
       "    <tr>\n",
       "      <th>2</th>\n",
       "      <td>Menú de Hamburguesa</td>\n",
       "      <td>14</td>\n",
       "      <td>6.0</td>\n",
       "    </tr>\n",
       "    <tr>\n",
       "      <th>3</th>\n",
       "      <td>Menú de Pollo</td>\n",
       "      <td>11</td>\n",
       "      <td>5.0</td>\n",
       "    </tr>\n",
       "    <tr>\n",
       "      <th>4</th>\n",
       "      <td>Pollo</td>\n",
       "      <td>06</td>\n",
       "      <td>3.6</td>\n",
       "    </tr>\n",
       "    <tr>\n",
       "      <th>5</th>\n",
       "      <td>Coca cola</td>\n",
       "      <td>09</td>\n",
       "      <td>3.0</td>\n",
       "    </tr>\n",
       "    <tr>\n",
       "      <th>6</th>\n",
       "      <td>Nestea</td>\n",
       "      <td>10</td>\n",
       "      <td>3.0</td>\n",
       "    </tr>\n",
       "    <tr>\n",
       "      <th>7</th>\n",
       "      <td>Fanta</td>\n",
       "      <td>19</td>\n",
       "      <td>3.0</td>\n",
       "    </tr>\n",
       "  </tbody>\n",
       "</table>\n",
       "</div>"
      ],
      "text/plain": [
       "                          nombre codigo  precio\n",
       "0  Menú de Hamburguesa con queso     12     6.0\n",
       "1        Menú de Pollo con queso     13     6.0\n",
       "2            Menú de Hamburguesa     14     6.0\n",
       "3                  Menú de Pollo     11     5.0\n",
       "4                          Pollo     06     3.6\n",
       "5                      Coca cola     09     3.0\n",
       "6                         Nestea     10     3.0\n",
       "7                          Fanta     19     3.0"
      ]
     },
     "execution_count": 47,
     "metadata": {},
     "output_type": "execute_result"
    }
   ],
   "source": [
    "connection = mysql.connector.connect(host='35.208.82.175', database='dbgsipp7ucsuwy', user='uqsnolewgvge8', password='upgradehub', connection_timeout=1800)\n",
    "cursor=connection.cursor()\n",
    "query8 = \"\"\" SELECT nombre, codigo, precio FROM PRODUCTO WHERE Precio >= (SELECT AVG(Precio) FROM PRODUCTO) ORDER BY Precio DESC\"\"\"\n",
    "cursor.execute(query8)\n",
    "cursor.fetchall()\n",
    "df8 = pd.read_sql(query8, con=connection)\n",
    "df8"
   ]
  },
  {
   "cell_type": "markdown",
   "metadata": {},
   "source": [
    "Obtener un listado con el nombre y DNI de los empleados que no han preparado\n",
    "nunca ningún pedido."
   ]
  },
  {
   "cell_type": "code",
   "execution_count": 44,
   "metadata": {},
   "outputs": [
    {
     "data": {
      "text/plain": [
       "[('Luis Ramírez Pardo', '11111111Q'),\n",
       " ('Sergio Lérida Campos', '14111155T'),\n",
       " ('Raúl Rodrigo Roca', '99999999X')]"
      ]
     },
     "execution_count": 44,
     "metadata": {},
     "output_type": "execute_result"
    }
   ],
   "source": [
    "connection = mysql.connector.connect(host='35.208.82.175', database='dbgsipp7ucsuwy', user='uqsnolewgvge8', password='upgradehub', connection_timeout=1800)\n",
    "cursor=connection.cursor()\n",
    "query9 = \"\"\" SELECT Nombre, DNI FROM EMPLEADO WHERE DNI NOT IN (SELECT DISTINCT dni_ep FROM PEDIDO)\"\"\"\n",
    "cursor.execute(query9)\n",
    "cursor.fetchall()"
   ]
  },
  {
   "cell_type": "markdown",
   "metadata": {},
   "source": [
    "Obtener el código, nombre y precio de los productos(estos dos últimos en el mismo\n",
    "campo) que están contenidos en los pedidos que ha tomado nota \"Luis\" o \"María\n",
    "Luisa\". Ordena el listado de mayor a menor valor por fecha del pedido."
   ]
  },
  {
   "cell_type": "code",
   "execution_count": 65,
   "metadata": {},
   "outputs": [
    {
     "data": {
      "text/plain": [
       "[('12', 'Luis Ramírez Pardo', 'Menú de Hamburguesa con queso 6.00'),\n",
       " ('11', 'Luis Ramírez Pardo', 'Menú de Pollo 5.00'),\n",
       " ('12', 'María Luisa Galdón Ter', 'Menú de Hamburguesa con queso 6.00'),\n",
       " ('09', 'María Luisa Galdón Ter', 'Coca cola 3.00'),\n",
       " ('02', 'María Luisa Galdón Ter', 'Patatas 2.00')]"
      ]
     },
     "execution_count": 65,
     "metadata": {},
     "output_type": "execute_result"
    }
   ],
   "source": [
    "connection = mysql.connector.connect(host='35.208.82.175', database='dbgsipp7ucsuwy', user='uqsnolewgvge8', password='upgradehub', connection_timeout=1800)\n",
    "cursor=connection.cursor()\n",
    "query10 = \"\"\" SELECT PR.Codigo, E.Nombre, CONCAT(PR.Nombre, ' ' , PR.Precio) AS NOMBRE_PRECIO\n",
    "\n",
    "                FROM PRODUCTO PR, PEDIDO P, consta C, EMPLEADO E\n",
    "\n",
    "                WHERE PR.Codigo = C.Codigo_Pr\n",
    "\n",
    "                AND P.Numero= C.Numero_P\n",
    "\n",
    "                AND P.DNI_ETM= E.DNI\n",
    "\n",
    "                AND E.nombre LIKE '%Luis%'\n",
    "               \n",
    "\n",
    "                ORDER BY P.Fecha DESC \"\"\"\n",
    "cursor.execute(query10)\n",
    "cursor.fetchall()\n",
    "# al poner %Luis% te filtra los nombres que continen Luis, tanto luis como luisa \n",
    "# si ponemos E.Nombre te imprime también el nombre de quien realizó el pedido"
   ]
  },
  {
   "cell_type": "code",
   "execution_count": 66,
   "metadata": {},
   "outputs": [
    {
     "name": "stderr",
     "output_type": "stream",
     "text": [
      "C:\\Users\\Sara\\AppData\\Local\\Temp\\ipykernel_11672\\1179300868.py:1: UserWarning: pandas only supports SQLAlchemy connectable (engine/connection) or database string URI or sqlite3 DBAPI2 connection. Other DBAPI2 objects are not tested. Please consider using SQLAlchemy.\n",
      "  df10 = pd.read_sql(query10, con=connection)\n"
     ]
    },
    {
     "data": {
      "text/html": [
       "<div>\n",
       "<style scoped>\n",
       "    .dataframe tbody tr th:only-of-type {\n",
       "        vertical-align: middle;\n",
       "    }\n",
       "\n",
       "    .dataframe tbody tr th {\n",
       "        vertical-align: top;\n",
       "    }\n",
       "\n",
       "    .dataframe thead th {\n",
       "        text-align: right;\n",
       "    }\n",
       "</style>\n",
       "<table border=\"1\" class=\"dataframe\">\n",
       "  <thead>\n",
       "    <tr style=\"text-align: right;\">\n",
       "      <th></th>\n",
       "      <th>Codigo</th>\n",
       "      <th>Nombre</th>\n",
       "      <th>NOMBRE_PRECIO</th>\n",
       "    </tr>\n",
       "  </thead>\n",
       "  <tbody>\n",
       "    <tr>\n",
       "      <th>0</th>\n",
       "      <td>12</td>\n",
       "      <td>Luis Ramírez Pardo</td>\n",
       "      <td>Menú de Hamburguesa con queso 6.00</td>\n",
       "    </tr>\n",
       "    <tr>\n",
       "      <th>1</th>\n",
       "      <td>11</td>\n",
       "      <td>Luis Ramírez Pardo</td>\n",
       "      <td>Menú de Pollo 5.00</td>\n",
       "    </tr>\n",
       "    <tr>\n",
       "      <th>2</th>\n",
       "      <td>12</td>\n",
       "      <td>María Luisa Galdón Ter</td>\n",
       "      <td>Menú de Hamburguesa con queso 6.00</td>\n",
       "    </tr>\n",
       "    <tr>\n",
       "      <th>3</th>\n",
       "      <td>09</td>\n",
       "      <td>María Luisa Galdón Ter</td>\n",
       "      <td>Coca cola 3.00</td>\n",
       "    </tr>\n",
       "    <tr>\n",
       "      <th>4</th>\n",
       "      <td>02</td>\n",
       "      <td>María Luisa Galdón Ter</td>\n",
       "      <td>Patatas 2.00</td>\n",
       "    </tr>\n",
       "  </tbody>\n",
       "</table>\n",
       "</div>"
      ],
      "text/plain": [
       "  Codigo                  Nombre                       NOMBRE_PRECIO\n",
       "0     12      Luis Ramírez Pardo  Menú de Hamburguesa con queso 6.00\n",
       "1     11      Luis Ramírez Pardo                  Menú de Pollo 5.00\n",
       "2     12  María Luisa Galdón Ter  Menú de Hamburguesa con queso 6.00\n",
       "3     09  María Luisa Galdón Ter                      Coca cola 3.00\n",
       "4     02  María Luisa Galdón Ter                        Patatas 2.00"
      ]
     },
     "execution_count": 66,
     "metadata": {},
     "output_type": "execute_result"
    }
   ],
   "source": [
    "df10 = pd.read_sql(query10, con=connection)\n",
    "df10"
   ]
  },
  {
   "cell_type": "markdown",
   "metadata": {},
   "source": [
    "Obtener por cada repartidor, su nombre, cantidad de pedidos y el tiempo medio\n",
    "que tardan en entregar los pedidos una vez preparados. Ordenar el listado el\n",
    "tiempo medio que tardan en entregarlos:"
   ]
  },
  {
   "cell_type": "code",
   "execution_count": 67,
   "metadata": {},
   "outputs": [
    {
     "data": {
      "text/plain": [
       "[('Laura Jiménez Jiménez', 2, '00:12:50'),\n",
       " ('Juan Pardo Rubio', 1, '00:15:00'),\n",
       " ('Carlos Sánchez Ruíz', 2, '00:19:00'),\n",
       " ('Alejandro Pardo López', 3, '00:25:00'),\n",
       " ('Juan Sánchez López', 1, '00:30:00')]"
      ]
     },
     "execution_count": 67,
     "metadata": {},
     "output_type": "execute_result"
    }
   ],
   "source": [
    "connection = mysql.connector.connect(host='35.208.82.175', database='dbgsipp7ucsuwy', user='uqsnolewgvge8', password='upgradehub', connection_timeout=1800)\n",
    "cursor=connection.cursor()\n",
    "query11 = \"\"\"SELECT R.nombre, COUNT(*) AS cantidad_repartos,\n",
    "\n",
    "TIME_FORMAT(AVG(TIMEDIFF(Hora_rep,Hora_pre)),'%T')AS tiempo_entrega\n",
    "\n",
    "FROM REPARTIDOR R, PEDIDO P\n",
    "\n",
    "WHERE R.DNI = P.DNI_R\n",
    "\n",
    "GROUP BY R.DNI\n",
    "\n",
    "ORDER BY 3;\"\"\"\n",
    "cursor.execute(query11)\n",
    "cursor.fetchall()\n",
    "# &T ccmabia el tiempo a h, min y seg. order by 3 Lo ordena por la columna 3"
   ]
  },
  {
   "cell_type": "markdown",
   "metadata": {},
   "source": [
    "Obtener un listado obteniendo el código, nombre y el precio de los productos\n",
    "cuyo precios sea el más barato o el más caro de todos."
   ]
  },
  {
   "cell_type": "code",
   "execution_count": 68,
   "metadata": {},
   "outputs": [
    {
     "data": {
      "text/plain": [
       "[('03', 'tomate', 0.5),\n",
       " ('05', 'Lechuga', 0.5),\n",
       " ('12', 'Menú de Hamburguesa con queso', 6.0),\n",
       " ('13', 'Menú de Pollo con queso', 6.0),\n",
       " ('14', 'Menú de Hamburguesa', 6.0)]"
      ]
     },
     "execution_count": 68,
     "metadata": {},
     "output_type": "execute_result"
    }
   ],
   "source": [
    "connection = mysql.connector.connect(host='35.208.82.175', database='dbgsipp7ucsuwy', user='uqsnolewgvge8', password='upgradehub', connection_timeout=1800)\n",
    "cursor=connection.cursor()\n",
    "query12 = \"\"\"SELECT Codigo, Nombre, precio\n",
    "\n",
    "FROM PRODUCTO\n",
    "\n",
    "WHERE precio = (SELECT MAX(precio)\n",
    "\n",
    "FROM PRODUCTO)\n",
    "\n",
    "OR precio = (SELECT MIN(precio)\n",
    "\n",
    "FROM PRODUCTO);\"\"\"\n",
    "cursor.execute(query12)\n",
    "cursor.fetchall()"
   ]
  },
  {
   "cell_type": "markdown",
   "metadata": {},
   "source": [
    "Obtener por cada producto , el nombre y código el número total de pedidos en\n",
    "los que se encuentra teniendo en cuenta que el total de pedidos en los cuales se\n",
    "encuentre sea superior o igual a dos. Ordena el listado de mayor a menor\n",
    "número de productos."
   ]
  },
  {
   "cell_type": "code",
   "execution_count": 69,
   "metadata": {},
   "outputs": [
    {
     "data": {
      "text/plain": [
       "[('Menú de Pollo con queso', '13', 6),\n",
       " ('Menú de Hamburguesa con queso', '12', 6),\n",
       " ('Menú de Pollo', '11', 3),\n",
       " ('Queso', '04', 3),\n",
       " ('Helado', '15', 2),\n",
       " ('Patatas', '02', 2)]"
      ]
     },
     "execution_count": 69,
     "metadata": {},
     "output_type": "execute_result"
    }
   ],
   "source": [
    "connection = mysql.connector.connect(host='35.208.82.175', database='dbgsipp7ucsuwy', user='uqsnolewgvge8', password='upgradehub', connection_timeout=1800)\n",
    "cursor=connection.cursor()\n",
    "query13 = \"\"\"SELECT PR.nombre, PR.codigo, count(P.Numero) as cantidad_pedidos\n",
    "\n",
    "FROM PEDIDO P, PRODUCTO PR, consta C\n",
    "\n",
    "WHERE P.numero = C.numero_P\n",
    "\n",
    "AND PR.codigo = C.codigo_Pr\n",
    "\n",
    "GROUP BY PR.codigo\n",
    "\n",
    "HAVING cantidad_pedidos>=2\n",
    "\n",
    "ORDER BY cantidad_pedidos DESC;\"\"\"\n",
    "cursor.execute(query13)\n",
    "cursor.fetchall()"
   ]
  },
  {
   "cell_type": "markdown",
   "metadata": {},
   "source": [
    "Mostrar listado de los empleados (código y NSS en la misma columna) que\n",
    "han tomado nota de algún pedido y contienen el producto de código 13 y\n",
    "además el repartidor sea 'Laura'."
   ]
  },
  {
   "cell_type": "code",
   "execution_count": 73,
   "metadata": {},
   "outputs": [
    {
     "data": {
      "text/plain": [
       "[('Raúl Rodrigo Roca', '99999999X 55566677789'),\n",
       " ('Piedad Colmenero Zapillo', '14567555L 23456734534')]"
      ]
     },
     "execution_count": 73,
     "metadata": {},
     "output_type": "execute_result"
    }
   ],
   "source": [
    "connection = mysql.connector.connect(host='35.208.82.175', database='dbgsipp7ucsuwy', user='uqsnolewgvge8', password='upgradehub', connection_timeout=1800)\n",
    "cursor=connection.cursor()\n",
    "query14 = \"\"\"SELECT E.nombre, CONCAT(E.DNI, ' ' , E.NSS) as Identificación\n",
    "\n",
    "FROM EMPLEADO E, PEDIDO P, REPARTIDOR R, consta C\n",
    "\n",
    "WHERE E.DNI = P.DNI_ETM AND R.DNI= P.DNI_R AND P.numero =\n",
    "\n",
    "C.numero_P\n",
    "\n",
    "AND R.nombre LIKE '%Laura%'\n",
    "\n",
    "AND C.codigo_Pr ='13';\"\"\"\n",
    "cursor.execute(query14)\n",
    "cursor.fetchall()\n",
    "\n"
   ]
  },
  {
   "cell_type": "markdown",
   "metadata": {},
   "source": [
    "Obtener el nombre del producto que es menú junto con el código de los\n",
    "productos que lo componen en aquellos pedidos del mes de septiembre de\n",
    "2020."
   ]
  },
  {
   "cell_type": "code",
   "execution_count": 75,
   "metadata": {},
   "outputs": [
    {
     "data": {
      "text/plain": [
       "[('0005', 'Menú de Hamburguesa con queso', '12', '01', 'Hamburguesa'),\n",
       " ('0005', 'Menú de Hamburguesa con queso', '12', '02', 'Patatas'),\n",
       " ('0005', 'Menú de Hamburguesa con queso', '12', '04', 'Queso'),\n",
       " ('0005', 'Menú de Hamburguesa con queso', '12', '10', 'Nestea'),\n",
       " ('0005', 'Menú de Hamburguesa con queso', '12', '16', 'Tarta'),\n",
       " ('0005', 'Menú de Pollo con queso', '13', '02', 'Patatas'),\n",
       " ('0005', 'Menú de Pollo con queso', '13', '04', 'Queso'),\n",
       " ('0005', 'Menú de Pollo con queso', '13', '06', 'Pollo'),\n",
       " ('0005', 'Menú de Pollo con queso', '13', '08', 'Bacon'),\n",
       " ('0005', 'Menú de Pollo con queso', '13', '09', 'Coca cola'),\n",
       " ('0005', 'Menú de Pollo con queso', '13', '15', 'Helado'),\n",
       " ('0007', 'Menú de Hamburguesa con queso', '12', '01', 'Hamburguesa'),\n",
       " ('0007', 'Menú de Hamburguesa con queso', '12', '02', 'Patatas'),\n",
       " ('0007', 'Menú de Hamburguesa con queso', '12', '04', 'Queso'),\n",
       " ('0007', 'Menú de Hamburguesa con queso', '12', '10', 'Nestea'),\n",
       " ('0007', 'Menú de Hamburguesa con queso', '12', '16', 'Tarta'),\n",
       " ('0008', 'Menú de Pollo', '11', '02', 'Patatas'),\n",
       " ('0008', 'Menú de Pollo', '11', '03', 'tomate'),\n",
       " ('0008', 'Menú de Pollo', '11', '06', 'Pollo'),\n",
       " ('0008', 'Menú de Pollo', '11', '17', 'Fruta'),\n",
       " ('0008', 'Menú de Pollo', '11', '18', 'Agua'),\n",
       " ('0008', 'Menú de Pollo con queso', '13', '02', 'Patatas'),\n",
       " ('0008', 'Menú de Pollo con queso', '13', '04', 'Queso'),\n",
       " ('0008', 'Menú de Pollo con queso', '13', '06', 'Pollo'),\n",
       " ('0008', 'Menú de Pollo con queso', '13', '08', 'Bacon'),\n",
       " ('0008', 'Menú de Pollo con queso', '13', '09', 'Coca cola'),\n",
       " ('0008', 'Menú de Pollo con queso', '13', '15', 'Helado')]"
      ]
     },
     "execution_count": 75,
     "metadata": {},
     "output_type": "execute_result"
    }
   ],
   "source": [
    "connection = mysql.connector.connect(host='35.208.82.175', database='dbgsipp7ucsuwy', user='uqsnolewgvge8', password='upgradehub', connection_timeout=1800)\n",
    "cursor=connection.cursor()\n",
    "query15 = \"\"\"SELECT P.numero AS numero_pedido,PR.nombre , PR.codigo,\n",
    "\n",
    "EC.codigo_P_compuesto as\n",
    "\n",
    "producto_que_lo_compone, PRODUCTO.nombre as descripción_p_que_lo_compone\n",
    "\n",
    "FROM PRODUCTO PR, PEDIDO P, esta_compuesto EC, consta C, PRODUCTO PRODUCTO\n",
    "\n",
    "WHERE PR.codigo=EC.codigo_p AND PR.codigo=C.codigo_PR\n",
    "\n",
    "AND P.numero=C.numero_P AND PRODUCTO.codigo= EC.codigo_p_compuesto\n",
    "\n",
    "AND P.fecha BETWEEN '2020-09-01' AND '2020-09-30';\"\"\"\n",
    "cursor.execute(query15)\n",
    "cursor.fetchall()\n"
   ]
  }
 ],
 "metadata": {
  "kernelspec": {
   "display_name": "Python 3",
   "language": "python",
   "name": "python3"
  },
  "language_info": {
   "codemirror_mode": {
    "name": "ipython",
    "version": 3
   },
   "file_extension": ".py",
   "mimetype": "text/x-python",
   "name": "python",
   "nbconvert_exporter": "python",
   "pygments_lexer": "ipython3",
   "version": "3.11.6"
  },
  "orig_nbformat": 4
 },
 "nbformat": 4,
 "nbformat_minor": 2
}
